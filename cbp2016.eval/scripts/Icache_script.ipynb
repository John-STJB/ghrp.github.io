{
 "cells": [
  {
   "cell_type": "code",
   "execution_count": 21,
   "metadata": {},
   "outputs": [
    {
     "name": "stdout",
     "output_type": "stream",
     "text": [
      "The autoreload extension is already loaded. To reload it, use:\n",
      "  %reload_ext autoreload\n"
     ]
    }
   ],
   "source": [
    "import time\n",
    "import pandas as pd\n",
    "import os\n",
    "import sys\n",
    "import random\n",
    "import subprocess\n",
    "import matplotlib.pyplot as plt\n",
    "from IPython.core.display import HTML\n",
    "%matplotlib inline\n",
    "plt.rcParams['figure.figsize'] = (10.0, 8.0) # set default size of plots\n",
    "plt.rcParams['image.interpolation'] = 'nearest'\n",
    "plt.rcParams['image.cmap'] = 'gray'\n",
    "\n",
    "# Some more magic so that the notebook will reload external python modules;\n",
    "# see http://stackoverflow.com/questions/1907993/autoreload-of-modules-in-ipython\n",
    "%load_ext autoreload\n",
    "%autoreload 2\n",
    "\n",
    "\n",
    "\n",
    "CB5_DIR = os.path.dirname(os.getcwd())\n",
    "SIM_DIR=os.path.join(CB5_DIR,\"sim\")\n",
    "SCRIPT_DIR = os.path.join(CB5_DIR,\"scripts\")\n",
    "TRACES =os.path.join(CB5_DIR,\"traces\")\n",
    "RESULT_DIR=os.path.join(CB5_DIR, \"results\")"
   ]
  },
  {
   "cell_type": "code",
   "execution_count": 22,
   "metadata": {},
   "outputs": [],
   "source": [
    "# create a lists of workloads\n",
    "workloads_83 = []\n",
    "workloads_12 = []\n",
    "\n",
    "all_works = sorted(os.listdir(TRACES))\n",
    "length = [\"LONG\", \"SHORT\"]\n",
    "types = [\"MOBILE\", \"SERVER\"]\n",
    "for l in length:\n",
    "    for t in types:\n",
    "        temp_list = []\n",
    "        for w in all_works:\n",
    "            if (l + \"_\" + t) in w:\n",
    "                temp_list.append(w)\n",
    "        t10_list = random.sample(temp_list , k=min(3,len(temp_list)))\n",
    "        temp_list = random.sample(temp_list , k=min(25,len(temp_list)))\n",
    "        for _t in temp_list:\n",
    "            workloads_83.append(_t)\n",
    "        for _t in t10_list:\n",
    "            workloads_12.append(_t)\n",
    "            \n"
   ]
  },
  {
   "cell_type": "code",
   "execution_count": 23,
   "metadata": {},
   "outputs": [],
   "source": [
    "def highlight_max(data, color='yellow'):\n",
    "    '''\n",
    "    highlight the maximum in a Series or DataFrame\n",
    "    '''\n",
    "    attr = 'background-color: {}'.format(color)\n",
    "    if data.ndim == 1:  # Series from .apply(axis=0) or axis=1\n",
    "        is_max = data == data.max()\n",
    "        return [attr if v else '' for v in is_max]\n",
    "    else:  # from .apply(axis=None)\n",
    "        is_max = data == data.max().max()\n",
    "        return pd.DataFrame(np.where(is_max, attr, ''),\n",
    "                            index=data.index, columns=data.columns)"
   ]
  },
  {
   "cell_type": "code",
   "execution_count": 24,
   "metadata": {},
   "outputs": [
    {
     "name": "stdout",
     "output_type": "stream",
     "text": [
      "['LONG_MOBILE-11.bt9.trace.gz', 'LONG_MOBILE-29.bt9.trace.gz', 'LONG_MOBILE-17.bt9.trace.gz', 'LONG_SERVER-7.bt9.trace.gz', 'LONG_SERVER-8.bt9.trace.gz', 'LONG_SERVER-2.bt9.trace.gz', 'SHORT_MOBILE-4.bt9.trace.gz', 'SHORT_MOBILE-44.bt9.trace.gz', 'SHORT_MOBILE-88.bt9.trace.gz', 'SHORT_SERVER-272.bt9.trace.gz', 'SHORT_SERVER-113.bt9.trace.gz', 'SHORT_SERVER-254.bt9.trace.gz']\n"
     ]
    }
   ],
   "source": [
    "policies = [\"GHRP\", \"RANDOM\", \"LRU\", \"RRIP\"]\n",
    "\n",
    "cmd_base = [os.path.join(SIM_DIR,\"predictor\")]\n",
    "# os.mkdir(os.path.join(RESULT_DIR,\"12_works\"))\n",
    "print(workloads_12)\n",
    "f = open(SCRIPT_DIR + \"/12_works.sh\", \"w\")\n",
    "temp = os.path.join(RESULT_DIR,\"exp_4bits\")\n",
    "for i in range(len(workloads_12)//2 + 1):\n",
    "    for j in range(2):\n",
    "        if (i*2+j < len(workloads_12)):\n",
    "            for pol in policies:\n",
    "                mycommand = cmd_base[:]\n",
    "                mycommand.append(os.path.join(TRACES, workloads_12[i*2+j]))\n",
    "                mycommand.append(pol)\n",
    "                mycommand.append(\">\")\n",
    "                a = mycommand[1].split(\"/\")\n",
    "                mycommand.append((temp +\"/\"+ a[-1] + mycommand[2] +\".txt\"))\n",
    "                mycommand.append(\"&\")\n",
    "                mycommand = \" \".join(mycommand)\n",
    "                f.write(mycommand)\n",
    "                f.write(\"\\n\")\n",
    "    f.write(\"for pid in $(jobs -p)\\n\")\n",
    "    f.write(\"do\\n\")\n",
    "    f.write(\"\\twait $pid\\n\")\n",
    "    f.write(\"done\\n\")\n",
    "        \n",
    "f.close()              \n",
    "#     print(cmds)\n",
    "#     procs = [ subprocess.Popen(i,  stdout=subprocess.PIPE, stderr=subprocess.PIPE, universal_newlines=True) for i in cmds ]\n",
    "\n",
    "\n",
    "#     temp = os.path.join(RESULT_DIR,\"83_works\")\n",
    "#     for i in range(len(procs)):\n",
    "#         print(\"*****************************************************\")\n",
    "#         p = procs[i]\n",
    "        \n",
    "#         a =  cmds[i][1].split(\"/\")\n",
    "#         print(temp +\"/\"+ a[-1] + cmds[i][2] +\".txt\", \"w\")\n",
    "#         out, err = p.communicate()\n",
    "        \n",
    "#         f = open(temp +\"/\"+ a[-1] + cmds[i][2] +\".txt\", \"w\")\n",
    "#         f.write(out)\n",
    "#         f.close()\n",
    "#         print(out)\n",
    "#         print(err)"
   ]
  },
  {
   "cell_type": "code",
   "execution_count": 31,
   "metadata": {},
   "outputs": [
    {
     "name": "stdout",
     "output_type": "stream",
     "text": [
      "[['echo', '/home/shyngys/cbp2016.eval/traces/LONG_MOBILE-5.bt9.trace.gz'], ['echo', '/home/shyngys/cbp2016.eval/traces/LONG_MOBILE-3.bt9.trace.gz'], ['echo', '/home/shyngys/cbp2016.eval/traces/LONG_MOBILE-22.bt9.trace.gz'], ['echo', '/home/shyngys/cbp2016.eval/traces/LONG_SERVER-4.bt9.trace.gz'], ['echo', '/home/shyngys/cbp2016.eval/traces/LONG_SERVER-8.bt9.trace.gz'], ['echo', '/home/shyngys/cbp2016.eval/traces/LONG_SERVER-6.bt9.trace.gz'], ['echo', '/home/shyngys/cbp2016.eval/traces/SHORT_MOBILE-69.bt9.trace.gz'], ['echo', '/home/shyngys/cbp2016.eval/traces/SHORT_MOBILE-7.bt9.trace.gz'], ['echo', '/home/shyngys/cbp2016.eval/traces/SHORT_MOBILE-3.bt9.trace.gz'], ['echo', '/home/shyngys/cbp2016.eval/traces/SHORT_SERVER-85.bt9.trace.gz']]\n",
      "*****************************************************\n",
      "/home/shyngys/cbp2016.eval/traces/LONG_MOBILE-5.bt9.trace.gz\n",
      "\n",
      "\n",
      "*****************************************************\n",
      "/home/shyngys/cbp2016.eval/traces/LONG_MOBILE-3.bt9.trace.gz\n",
      "\n",
      "\n",
      "*****************************************************\n",
      "/home/shyngys/cbp2016.eval/traces/LONG_MOBILE-22.bt9.trace.gz\n",
      "\n",
      "\n",
      "*****************************************************\n",
      "/home/shyngys/cbp2016.eval/traces/LONG_SERVER-4.bt9.trace.gz\n",
      "\n",
      "\n",
      "*****************************************************\n",
      "/home/shyngys/cbp2016.eval/traces/LONG_SERVER-8.bt9.trace.gz\n",
      "\n",
      "\n",
      "*****************************************************\n",
      "/home/shyngys/cbp2016.eval/traces/LONG_SERVER-6.bt9.trace.gz\n",
      "\n",
      "\n",
      "*****************************************************\n",
      "/home/shyngys/cbp2016.eval/traces/SHORT_MOBILE-69.bt9.trace.gz\n",
      "\n",
      "\n",
      "*****************************************************\n",
      "/home/shyngys/cbp2016.eval/traces/SHORT_MOBILE-7.bt9.trace.gz\n",
      "\n",
      "\n",
      "*****************************************************\n",
      "/home/shyngys/cbp2016.eval/traces/SHORT_MOBILE-3.bt9.trace.gz\n",
      "\n",
      "\n",
      "*****************************************************\n",
      "/home/shyngys/cbp2016.eval/traces/SHORT_SERVER-85.bt9.trace.gz\n",
      "\n",
      "\n"
     ]
    }
   ],
   "source": [
    "# cmds = [ ]\n",
    "# cmd_base = [\"echo\"]\n",
    "# for i in range(len(workloads_12)//10):\n",
    "#     for j in range(10):\n",
    "#         if (i*10+j < len(workloads_12)):\n",
    "#             mycommand = cmd_base[:]\n",
    "#             mycommand.append(os.path.join(TRACES, workloads_12[i*10+j]))\n",
    "#             cmds.append(mycommand)\n",
    "            \n",
    "# print(cmds)\n",
    "# procs = [ subprocess.Popen(i,  stdout=subprocess.PIPE, stderr=subprocess.PIPE, universal_newlines=True) for i in cmds ]\n",
    "\n",
    "\n",
    "# for i in range(len(procs)):\n",
    "#     print(\"*****************************************************\")\n",
    "#     p = procs[i]\n",
    "#     out, err = p.communicate()\n",
    "#     f = open((RESULT_DIR + (\"/\"+workloads_12[i] +\".txt\")),\"w\")\n",
    "#     f.write(out)\n",
    "#     f.close()\n",
    "#     print(out)\n",
    "#     print(err)"
   ]
  },
  {
   "cell_type": "code",
   "execution_count": 33,
   "metadata": {},
   "outputs": [
    {
     "data": {
      "text/plain": [
       "['LONG_MOBILE-5.bt9.trace.gz',\n",
       " 'LONG_MOBILE-3.bt9.trace.gz',\n",
       " 'LONG_MOBILE-22.bt9.trace.gz',\n",
       " 'LONG_SERVER-4.bt9.trace.gz',\n",
       " 'LONG_SERVER-8.bt9.trace.gz',\n",
       " 'LONG_SERVER-6.bt9.trace.gz',\n",
       " 'SHORT_MOBILE-69.bt9.trace.gz',\n",
       " 'SHORT_MOBILE-7.bt9.trace.gz',\n",
       " 'SHORT_MOBILE-3.bt9.trace.gz',\n",
       " 'SHORT_SERVER-85.bt9.trace.gz',\n",
       " 'SHORT_SERVER-97.bt9.trace.gz',\n",
       " 'SHORT_SERVER-203.bt9.trace.gz']"
      ]
     },
     "execution_count": 33,
     "metadata": {},
     "output_type": "execute_result"
    }
   ],
   "source": [
    "workloads_12"
   ]
  },
  {
   "cell_type": "code",
   "execution_count": null,
   "metadata": {},
   "outputs": [],
   "source": []
  }
 ],
 "metadata": {
  "kernelspec": {
   "display_name": "myenv",
   "language": "python",
   "name": "myenv"
  },
  "language_info": {
   "codemirror_mode": {
    "name": "ipython",
    "version": 3
   },
   "file_extension": ".py",
   "mimetype": "text/x-python",
   "name": "python",
   "nbconvert_exporter": "python",
   "pygments_lexer": "ipython3",
   "version": "3.6.10"
  }
 },
 "nbformat": 4,
 "nbformat_minor": 4
}
